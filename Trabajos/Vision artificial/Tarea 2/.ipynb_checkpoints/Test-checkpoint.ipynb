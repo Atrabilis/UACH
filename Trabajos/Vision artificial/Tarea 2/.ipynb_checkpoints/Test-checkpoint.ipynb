{
 "cells": [
  {
   "cell_type": "code",
   "execution_count": 114,
   "id": "321f9aab",
   "metadata": {},
   "outputs": [
    {
     "name": "stdout",
     "output_type": "stream",
     "text": [
      "(3, 3, 1) \n",
      "\n",
      "(1, 3, 1)\n",
      "(6, 3, 1) \n",
      "\n",
      "(7, 3, 1) \n",
      "\n",
      "(7, 6, 1) \n",
      "\n",
      "(7, 7, 1) \n",
      "\n"
     ]
    }
   ],
   "source": [
    "for var in globals().copy():\n",
    "    if not var.startswith(\"_\"):\n",
    "        del globals()[var]\n",
    "import numpy as np\n",
    "\n",
    "img = np.array([[[1],[1],[1]],[[1],[1],[1]],[[1],[1],[1]]])\n",
    "print(img.shape,\"\\n\")\n",
    "filaDeCeros =np.zeros((1,img.shape[1],img.shape[2]), dtype = img.dtype)\n",
    "print(filaDeCeros.shape)\n",
    "ampliada = np.insert(img, np.s_[::1], filaDeCeros, axis=0)\n",
    "print(ampliada.shape,\"\\n\")\n",
    "ampliada = np.vstack((ampliada, filaDeCeros))\n",
    "print(ampliada.shape,\"\\n\")\n",
    "columnaDeCeros = np.zeros((ampliada.shape[0],1,img.shape[2]), dtype = ampliada.dtype)\n",
    "ampliada = np.insert(ampliada,np.s_[0::1],columnaDeCeros, axis = 1)\n",
    "print(ampliada.shape,\"\\n\")\n",
    "ampliada = np.hstack((ampliada,columnaDeCeros))\n",
    "print(ampliada.shape,\"\\n\")"
   ]
  },
  {
   "cell_type": "code",
   "execution_count": null,
   "id": "a7726e4b",
   "metadata": {},
   "outputs": [],
   "source": []
  }
 ],
 "metadata": {
  "kernelspec": {
   "display_name": "Python 3 (ipykernel)",
   "language": "python",
   "name": "python3"
  },
  "language_info": {
   "codemirror_mode": {
    "name": "ipython",
    "version": 3
   },
   "file_extension": ".py",
   "mimetype": "text/x-python",
   "name": "python",
   "nbconvert_exporter": "python",
   "pygments_lexer": "ipython3",
   "version": "3.9.7"
  }
 },
 "nbformat": 4,
 "nbformat_minor": 5
}
