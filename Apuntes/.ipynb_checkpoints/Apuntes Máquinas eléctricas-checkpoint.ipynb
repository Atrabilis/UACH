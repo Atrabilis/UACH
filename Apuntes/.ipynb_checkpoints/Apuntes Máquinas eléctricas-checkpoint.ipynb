{
 "cells": [
  {
   "cell_type": "markdown",
   "id": "d0d4a326",
   "metadata": {},
   "source": [
    "# **Velocidad Angular**\n",
    "\n",
    "Tasa de cambio de la posición angular ($\\theta$) con respecto al tiempo positiva en sentido contrario a las manecillas del reloj y negativa en sentido de las manecillas del reloj. \n",
    "\n",
    "La velocidad lineal unidimensional sedefine como:\n",
    "\n",
    "\\begin{equation}\n",
    "v = \\frac{dr}{dt}\n",
    "\\end{equation}\n",
    "\n",
    "y la velocidad angular:\n",
    "\n",
    "\\begin{equation}\n",
    "\\omega = \\frac{d \\theta}{dt}\n",
    "\\end{equation}\n",
    "\n",
    "* $\\omega_m$: velocidad angular en radianes por segundo\n",
    "* $f_m$: velocidad angular en revoluciones por segundo\n",
    "* $n_m$: velocidad angular en revoluciones por minuto\n",
    "\n",
    "la relación entre estas cantidades está dada por:\n",
    "\n",
    "\\begin{align}\n",
    "n_m = 60f_n\\\\\n",
    "f_m = \\frac{\\omega_m}{2\\pi}\n",
    "\\end{align}"
   ]
  },
  {
   "cell_type": "markdown",
   "id": "05a314bc",
   "metadata": {},
   "source": [
    "# **Aceleración Angular**\n",
    "\n",
    "La aceleración lineal unidimensional se define como:\n",
    "\n",
    "\\begin{equation}\n",
    "a = \\frac{dv}{dt}\n",
    "\\end{equation}\n",
    "\n",
    "La aceleración lineal angular se define como:\n",
    "\n",
    "\\begin{equation}\n",
    "\\alpha = \\frac{d\\omega}{dt}\n",
    "\\end{equation}\n",
    "\n",
    "\n"
   ]
  },
  {
   "cell_type": "markdown",
   "id": "4c736f66",
   "metadata": {},
   "source": [
    "# **Par**\n",
    "\n",
    "¿Qué es par? Se le puede llamar, aunque no con mucha exactitud, la “fuerza de torsión” aplicada\n",
    "a un objeto.\n",
    "\n",
    "<img src=\"./par.png\" alt=\"Deduccion de la ecuacion de par en un objeto\" width=\"50%\">\n",
    "\n",
    "\n",
    "\\begin{equation}\n",
    "\\tau = r F \\sin(\\theta)\n",
    "\\end{equation}"
   ]
  },
  {
   "cell_type": "code",
   "execution_count": null,
   "id": "13114ed2",
   "metadata": {},
   "outputs": [],
   "source": []
  }
 ],
 "metadata": {
  "kernelspec": {
   "display_name": "Python 3 (ipykernel)",
   "language": "python",
   "name": "python3"
  },
  "language_info": {
   "codemirror_mode": {
    "name": "ipython",
    "version": 3
   },
   "file_extension": ".py",
   "mimetype": "text/x-python",
   "name": "python",
   "nbconvert_exporter": "python",
   "pygments_lexer": "ipython3",
   "version": "3.9.7"
  }
 },
 "nbformat": 4,
 "nbformat_minor": 5
}
