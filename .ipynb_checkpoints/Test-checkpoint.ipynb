{
 "cells": [
  {
   "cell_type": "code",
   "execution_count": 2,
   "id": "bb40db9d",
   "metadata": {
    "scrolled": true
   },
   "outputs": [
    {
     "data": {
      "text/html": [
       "\n",
       "<style>\n",
       "h1 {\n",
       "    text-align: center;\n",
       "}\n",
       "</style>\n"
      ],
      "text/plain": [
       "<IPython.core.display.HTML object>"
      ]
     },
     "execution_count": 2,
     "metadata": {},
     "output_type": "execute_result"
    }
   ],
   "source": [
    "#Esta celda da formato al texto del Notebook.\n",
    "from IPython.core.display import HTML\n",
    "\n",
    "HTML(\"\"\"\n",
    "<style>\n",
    "h1 {\n",
    "    text-align: center;\n",
    "}\n",
    "</style>\n",
    "\"\"\")"
   ]
  },
  {
   "cell_type": "markdown",
   "id": "4d655f41",
   "metadata": {},
   "source": [
    "<h1>Matriz Ampliada con ceros</h1>"
   ]
  },
  {
   "cell_type": "code",
   "execution_count": 46,
   "id": "321f9aab",
   "metadata": {},
   "outputs": [
    {
     "name": "stdout",
     "output_type": "stream",
     "text": [
      "(7, 7, 1) \n",
      "\n"
     ]
    }
   ],
   "source": [
    "for var in globals().copy():\n",
    "    if not var.startswith(\"_\"):\n",
    "        del globals()[var]\n",
    "import numpy as np\n",
    "\n",
    "img = np.array([\n",
    "    [[1],[2],[3]],\n",
    "    [[4],[5],[6]],\n",
    "    [[7],[8],[9]]\n",
    "])\n",
    "#print(img.shape,\"\\n\")\n",
    "filaDeCeros =np.zeros((1,img.shape[1],img.shape[2]), dtype = int)\n",
    "#print(filaDeCeros.shape)\n",
    "ampliada = np.insert(img, np.s_[::1], filaDeCeros, axis=0)\n",
    "#print(ampliada.shape,\"\\n\")\n",
    "ampliada = np.vstack((ampliada, filaDeCeros))\n",
    "#print(ampliada.shape,\"\\n\")\n",
    "columnaDeCeros = np.zeros((ampliada.shape[0],1,img.shape[2]), dtype = int)\n",
    "ampliada = np.insert(ampliada,np.s_[0::1],columnaDeCeros, axis = 1)\n",
    "#print(ampliada.shape,\"\\n\")\n",
    "ampliada = np.hstack((ampliada,columnaDeCeros))\n",
    "print(ampliada.shape,\"\\n\")\n",
    "#print(ampliada,\"\\n\")\n"
   ]
  },
  {
   "cell_type": "markdown",
   "id": "4f387a0d",
   "metadata": {},
   "source": [
    "<h1>Convolución con máscara</h1>"
   ]
  },
  {
   "cell_type": "code",
   "execution_count": 51,
   "id": "7a1cc5b5",
   "metadata": {
    "scrolled": false
   },
   "outputs": [
    {
     "name": "stdout",
     "output_type": "stream",
     "text": [
      "(3, 3, 1)\n",
      "(0, 0)\n",
      "indice:  (0, 0, 0) valor:  0\n",
      "indice:  (0, 1, 0) valor:  0\n",
      "indice:  (0, 2, 0) valor:  0\n",
      "indice:  (1, 0, 0) valor:  0\n",
      "indice:  (1, 1, 0) valor:  1\n",
      "indice:  (1, 2, 0) valor:  0\n",
      "indice:  (2, 0, 0) valor:  0\n",
      "indice:  (2, 1, 0) valor:  0\n",
      "indice:  (2, 2, 0) valor:  0\n",
      "sum :  1.0\n",
      "resultado_conv:  [[[1]\n",
      "  [0]\n",
      "  [0]]\n",
      "\n",
      " [[0]\n",
      "  [0]\n",
      "  [0]]\n",
      "\n",
      " [[0]\n",
      "  [0]\n",
      "  [0]]]\n",
      "(0, 1)\n",
      "indice:  (0, 0, 0) valor:  0\n",
      "indice:  (0, 1, 0) valor:  0\n",
      "indice:  (0, 2, 0) valor:  0\n",
      "indice:  (1, 0, 0) valor:  1\n",
      "indice:  (1, 1, 0) valor:  0\n",
      "indice:  (1, 2, 0) valor:  2\n",
      "indice:  (2, 0, 0) valor:  0\n",
      "indice:  (2, 1, 0) valor:  0\n",
      "indice:  (2, 2, 0) valor:  0\n",
      "sum :  1.5\n",
      "resultado_conv:  [[[1]\n",
      "  [1]\n",
      "  [0]]\n",
      "\n",
      " [[0]\n",
      "  [0]\n",
      "  [0]]\n",
      "\n",
      " [[0]\n",
      "  [0]\n",
      "  [0]]]\n",
      "(0, 2)\n",
      "indice:  (0, 0, 0) valor:  0\n",
      "indice:  (0, 1, 0) valor:  0\n",
      "indice:  (0, 2, 0) valor:  0\n",
      "indice:  (1, 0, 0) valor:  0\n",
      "indice:  (1, 1, 0) valor:  2\n",
      "indice:  (1, 2, 0) valor:  0\n",
      "indice:  (2, 0, 0) valor:  0\n",
      "indice:  (2, 1, 0) valor:  0\n",
      "indice:  (2, 2, 0) valor:  0\n",
      "sum :  2.0\n",
      "resultado_conv:  [[[1]\n",
      "  [1]\n",
      "  [2]]\n",
      "\n",
      " [[0]\n",
      "  [0]\n",
      "  [0]]\n",
      "\n",
      " [[0]\n",
      "  [0]\n",
      "  [0]]]\n",
      "(0, 3)\n",
      "indice:  (0, 0, 0) valor:  0\n",
      "indice:  (0, 1, 0) valor:  0\n",
      "indice:  (0, 2, 0) valor:  0\n",
      "indice:  (1, 0, 0) valor:  2\n",
      "indice:  (1, 1, 0) valor:  0\n",
      "indice:  (1, 2, 0) valor:  3\n",
      "indice:  (2, 0, 0) valor:  0\n",
      "indice:  (2, 1, 0) valor:  0\n",
      "indice:  (2, 2, 0) valor:  0\n",
      "sum :  2.5\n"
     ]
    },
    {
     "ename": "IndexError",
     "evalue": "index 3 is out of bounds for axis 1 with size 3",
     "output_type": "error",
     "traceback": [
      "\u001b[1;31m---------------------------------------------------------------------------\u001b[0m",
      "\u001b[1;31mIndexError\u001b[0m                                Traceback (most recent call last)",
      "Cell \u001b[1;32mIn[51], line 21\u001b[0m\n\u001b[0;32m     19\u001b[0m     \u001b[38;5;28msum\u001b[39m \u001b[38;5;241m+\u001b[39m\u001b[38;5;241m=\u001b[39m valor\u001b[38;5;241m*\u001b[39mmascara_conv[indice[\u001b[38;5;241m0\u001b[39m],indice[\u001b[38;5;241m1\u001b[39m]]\n\u001b[0;32m     20\u001b[0m \u001b[38;5;28mprint\u001b[39m(\u001b[38;5;124m\"\u001b[39m\u001b[38;5;124msum : \u001b[39m\u001b[38;5;124m\"\u001b[39m, \u001b[38;5;28msum\u001b[39m)\n\u001b[1;32m---> 21\u001b[0m \u001b[43mresultado_conv\u001b[49m\u001b[43m[\u001b[49m\u001b[43mi\u001b[49m\u001b[43m,\u001b[49m\u001b[43m \u001b[49m\u001b[43mj\u001b[49m\u001b[43m]\u001b[49m \u001b[38;5;241m=\u001b[39m \u001b[38;5;28msum\u001b[39m\n\u001b[0;32m     22\u001b[0m \u001b[38;5;28mprint\u001b[39m(\u001b[38;5;124m\"\u001b[39m\u001b[38;5;124mresultado_conv: \u001b[39m\u001b[38;5;124m\"\u001b[39m, resultado_conv)\n\u001b[0;32m     23\u001b[0m \u001b[38;5;28msum\u001b[39m \u001b[38;5;241m=\u001b[39m \u001b[38;5;241m0\u001b[39m\n",
      "\u001b[1;31mIndexError\u001b[0m: index 3 is out of bounds for axis 1 with size 3"
     ]
    }
   ],
   "source": [
    "mascara_conv = np.array([[0.25,0.5 ,0.25],[0.5,1 ,0.5],[0.25,0.5 ,0.25]])\n",
    "region_conv = ampliada[1:-1,1:-1,:]\n",
    "#print(mascara_conv.shape)\n",
    "#print(region_conv.shape)\n",
    "print(img.shape)\n",
    "#print(\"Región de convolución\",\"\\n \\n\",region_conv, \"\\n\")\n",
    "resultado_conv = np.zeros_like(img)\n",
    "sum = 0\n",
    "for i, j in np.ndindex(region_conv.shape[:2]):\n",
    "    print((i,j))\n",
    "    elemento = region_conv[i, j]\n",
    "    #print(\"Elemento en la posición ({},{}) es: {}\".format(i, j, elemento))\n",
    "    #print(\"elementos adyacentes\")\n",
    "    #print(ampliada[i:i+3,j:j+3])\n",
    "    for indice, valor in np.ndenumerate(ampliada[i:i+3,j:j+3]):\n",
    "        print(\"indice: \",indice, \"valor: \",valor)\n",
    "        #print(\"valor mascara convolución: \" ,mascara_conv[indice[0],indice[1]])\n",
    "        #print(valor*mascara_conv[indice[0],indice[1]])\n",
    "        sum += valor*mascara_conv[indice[0],indice[1]]\n",
    "    print(\"sum : \", sum)\n",
    "    resultado_conv[i, j] = sum # J SOBREPASA 3, RESOLVER\n",
    "    print(\"resultado_conv: \", resultado_conv)\n",
    "    sum = 0\n",
    "    \"\"\"for elemento in ampliada[i:i+3,j:j+3]:\n",
    "        print(\"*\",elemento,\"*\")\n",
    "        for index,k in enumerate(elemento):\n",
    "            print(index,\"**\",k,\"**\")\"\"\"\n",
    "            \n",
    "\n",
    "        \n",
    "   \n"
   ]
  },
  {
   "cell_type": "code",
   "execution_count": null,
   "id": "8375faf5",
   "metadata": {},
   "outputs": [],
   "source": []
  }
 ],
 "metadata": {
  "kernelspec": {
   "display_name": "Python 3 (ipykernel)",
   "language": "python",
   "name": "python3"
  },
  "language_info": {
   "codemirror_mode": {
    "name": "ipython",
    "version": 3
   },
   "file_extension": ".py",
   "mimetype": "text/x-python",
   "name": "python",
   "nbconvert_exporter": "python",
   "pygments_lexer": "ipython3",
   "version": "3.9.7"
  }
 },
 "nbformat": 4,
 "nbformat_minor": 5
}
