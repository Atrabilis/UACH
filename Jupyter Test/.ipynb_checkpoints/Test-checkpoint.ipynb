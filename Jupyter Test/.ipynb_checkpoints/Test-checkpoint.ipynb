{
 "cells": [
  {
   "cell_type": "code",
   "execution_count": 1,
   "id": "bb40db9d",
   "metadata": {
    "scrolled": true
   },
   "outputs": [
    {
     "data": {
      "text/html": [
       "\n",
       "<style>\n",
       "h1 {\n",
       "    text-align: center;\n",
       "}\n",
       "</style>\n"
      ],
      "text/plain": [
       "<IPython.core.display.HTML object>"
      ]
     },
     "execution_count": 1,
     "metadata": {},
     "output_type": "execute_result"
    }
   ],
   "source": [
    "#Esta celda da formato al texto del Notebook.\n",
    "from IPython.core.display import HTML\n",
    "\n",
    "HTML(\"\"\"\n",
    "<style>\n",
    "h1 {\n",
    "    text-align: center;\n",
    "}\n",
    "</style>\n",
    "\"\"\")"
   ]
  },
  {
   "cell_type": "markdown",
   "id": "4d655f41",
   "metadata": {},
   "source": [
    "<h1>Matriz Ampliada con ceros</h1>"
   ]
  },
  {
   "cell_type": "code",
   "execution_count": null,
   "id": "321f9aab",
   "metadata": {},
   "outputs": [
    {
     "name": "stdout",
     "output_type": "stream",
     "text": [
      "(256, 256, 3) \n",
      "\n",
      "(513, 513, 3) \n",
      "\n"
     ]
    }
   ],
   "source": [
    "for var in globals().copy():\n",
    "    if not var.startswith(\"_\"):\n",
    "        del globals()[var]\n",
    "import numpy as np\n",
    "import cv2\n",
    "\n",
    "\"\"\"img = np.array([\n",
    "    [[1],[2],[3]],\n",
    "    [[4],[5],[6]],\n",
    "    [[7],[8],[9]]\n",
    "])\"\"\"\n",
    "# Cargar imagen en color\n",
    "img = cv2.imread(\"imagen1.jpg\")\n",
    "\n",
    "print(img.shape,\"\\n\")\n",
    "filaDeCeros =np.zeros((1,img.shape[1],img.shape[2]), dtype=np.uint8)\n",
    "#print(filaDeCeros)\n",
    "#print(filaDeCeros.shape)\n",
    "ampliada = np.insert(img, np.s_[::1], filaDeCeros, axis=0)\n",
    "#print(ampliada.shape,\"\\n\")\n",
    "ampliada = np.vstack((ampliada, filaDeCeros))\n",
    "#print(ampliada.shape,\"\\n\")\n",
    "columnaDeCeros = np.zeros((ampliada.shape[0],1,img.shape[2]), dtype=np.uint8)\n",
    "#print(columnaDeCeros)\n",
    "#print(columnaDeCeros.shape)\n",
    "ampliada = np.insert(ampliada,np.s_[0::1],columnaDeCeros, axis = 1)\n",
    "#print(ampliada.shape,\"\\n\")\n",
    "ampliada = np.hstack((ampliada,columnaDeCeros))\n",
    "print(ampliada.shape,\"\\n\")\n",
    "#print(ampliada,\"\\n\")\n",
    "\n",
    "# Mostrar imagen en una ventana\n",
    "cv2.imshow('Imagen', img)\n",
    "cv2.imshow('Ampliada', ampliada)\n",
    "cv2.waitKey(0)\n",
    "cv2.destroyAllWindows()\n",
    "\n"
   ]
  },
  {
   "cell_type": "markdown",
   "id": "4f387a0d",
   "metadata": {},
   "source": [
    "<h1>Convolución con máscara</h1>"
   ]
  },
  {
   "cell_type": "code",
   "execution_count": null,
   "id": "7a1cc5b5",
   "metadata": {
    "scrolled": false
   },
   "outputs": [],
   "source": [
    "mascara_conv = np.array([[0.25,0.5 ,0.25],[0.5,1 ,0.5],[0.25,0.5 ,0.25]])\n",
    "region_conv = ampliada[1:-1,1:-1,:]\n",
    "#print(mascara_conv.shape)\n",
    "#print(region_conv.shape)\n",
    "#print(img.shape)\n",
    "#print(\"Región de convolución\",\"\\n \\n\",region_conv, \"\\n\")\n",
    "resultado_conv= np.zeros((region_conv.shape[0], region_conv.shape[1], region_conv.shape[2]), dtype=np.uint8)\n",
    "sum = 0\n",
    "sumas = []\n",
    "indices = []\n",
    "for i, j in np.ndindex(region_conv.shape[:2]):\n",
    "    #print((i,j))\n",
    "    elemento = region_conv[i, j]\n",
    "    #print(\"Elemento en la posición ({},{}) es: {}\".format(i, j, elemento))\n",
    "    #print(\"elementos adyacentes\")\n",
    "    #print(ampliada[i:i+3,j:j+3])\n",
    "    for indice, valor in np.ndenumerate(ampliada[i:i+3,j:j+3]):\n",
    "        print(\"indice: \",indice[:2], \"valor: \",valor)\n",
    "        print(\"valor mascara convolución: \" ,mascara_conv[indice[0],indice[1]])\n",
    "        print(valor*mascara_conv[indice[0],indice[1]])\n",
    "        sum += valor*mascara_conv[indice[0],indice[1]]\n",
    "        \n",
    "    sumas.append(sum)\n",
    "    if len(indices) != region_conv.shape[0]*region_conv.shape[1]:\n",
    "        #print(\"agregando indices\")\n",
    "        indices.append((i,j))\n",
    "        #print(len(indices))\n",
    "        #print(\"indices = \",indices)\n",
    "    #print(\"sumas = \",sumas)\n",
    "    #print(\"sum : \", sum)\n",
    "    #print(\"resultado_conv: \", resultado_conv)\n",
    "    sum = 0\n",
    "#print(indices)\n",
    "#print(len(indices))\n",
    "#print(\"sumas:\",\"\\n\",sumas)\n",
    "#print(len(sumas))\n",
    "for i,j in enumerate(indices):\n",
    "    #print(i,j)\n",
    "    resultado_conv[j[0],j[1]] = sumas[i] \n",
    "#print(\"img:\",\"\\n\",img)\n",
    "#print(\"resultado:\",\"\\n\",resultado_conv)\n",
    "            \n",
    "# Mostrar imagen en una ventana\n",
    "#cv2.imshow('Imagen', img)\n",
    "#cv2.imshow('Imagen con zoom', resultado_conv)\n",
    "#cv2.waitKey(0)\n",
    "#cv2.destroyAllWindows()\n"
   ]
  },
  {
   "cell_type": "code",
   "execution_count": null,
   "id": "8375faf5",
   "metadata": {},
   "outputs": [],
   "source": []
  }
 ],
 "metadata": {
  "kernelspec": {
   "display_name": "Python 3 (ipykernel)",
   "language": "python",
   "name": "python3"
  },
  "language_info": {
   "codemirror_mode": {
    "name": "ipython",
    "version": 3
   },
   "file_extension": ".py",
   "mimetype": "text/x-python",
   "name": "python",
   "nbconvert_exporter": "python",
   "pygments_lexer": "ipython3",
   "version": "3.9.7"
  }
 },
 "nbformat": 4,
 "nbformat_minor": 5
}
