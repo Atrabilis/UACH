{
 "cells": [
  {
   "cell_type": "code",
   "execution_count": 36,
   "id": "bb40db9d",
   "metadata": {
    "scrolled": true
   },
   "outputs": [
    {
     "data": {
      "text/html": [
       "\n",
       "<style>\n",
       "h1 {\n",
       "    text-align: center;\n",
       "}\n",
       "</style>\n"
      ],
      "text/plain": [
       "<IPython.core.display.HTML object>"
      ]
     },
     "execution_count": 36,
     "metadata": {},
     "output_type": "execute_result"
    }
   ],
   "source": [
    "#Esta celda da formato al texto del Notebook.\n",
    "from IPython.core.display import HTML\n",
    "\n",
    "HTML(\"\"\"\n",
    "<style>\n",
    "h1 {\n",
    "    text-align: center;\n",
    "}\n",
    "</style>\n",
    "\"\"\")"
   ]
  },
  {
   "cell_type": "markdown",
   "id": "4d655f41",
   "metadata": {},
   "source": [
    "<h1>Matriz Ampliada con ceros</h1>"
   ]
  },
  {
   "cell_type": "code",
   "execution_count": 64,
   "id": "321f9aab",
   "metadata": {},
   "outputs": [
    {
     "name": "stdout",
     "output_type": "stream",
     "text": [
      "(7, 7, 3) \n",
      "\n",
      "[[[0 0 0]\n",
      "  [0 0 0]\n",
      "  [0 0 0]\n",
      "  [0 0 0]\n",
      "  [0 0 0]\n",
      "  [0 0 0]\n",
      "  [0 0 0]]\n",
      "\n",
      " [[0 0 0]\n",
      "  [1 1 1]\n",
      "  [0 0 0]\n",
      "  [1 1 1]\n",
      "  [0 0 0]\n",
      "  [1 1 1]\n",
      "  [0 0 0]]\n",
      "\n",
      " [[0 0 0]\n",
      "  [0 0 0]\n",
      "  [0 0 0]\n",
      "  [0 0 0]\n",
      "  [0 0 0]\n",
      "  [0 0 0]\n",
      "  [0 0 0]]\n",
      "\n",
      " [[0 0 0]\n",
      "  [1 1 1]\n",
      "  [0 0 0]\n",
      "  [1 1 1]\n",
      "  [0 0 0]\n",
      "  [1 1 1]\n",
      "  [0 0 0]]\n",
      "\n",
      " [[0 0 0]\n",
      "  [0 0 0]\n",
      "  [0 0 0]\n",
      "  [0 0 0]\n",
      "  [0 0 0]\n",
      "  [0 0 0]\n",
      "  [0 0 0]]\n",
      "\n",
      " [[0 0 0]\n",
      "  [1 1 1]\n",
      "  [0 0 0]\n",
      "  [1 1 1]\n",
      "  [0 0 0]\n",
      "  [1 1 1]\n",
      "  [0 0 0]]\n",
      "\n",
      " [[0 0 0]\n",
      "  [0 0 0]\n",
      "  [0 0 0]\n",
      "  [0 0 0]\n",
      "  [0 0 0]\n",
      "  [0 0 0]\n",
      "  [0 0 0]]] \n",
      "\n"
     ]
    }
   ],
   "source": [
    "for var in globals().copy():\n",
    "    if not var.startswith(\"_\"):\n",
    "        del globals()[var]\n",
    "import numpy as np\n",
    "\n",
    "img = np.array([\n",
    "    [[1,1,1],[1,1,1],[1,1,1]],\n",
    "    [[1,1,1],[1,1,1],[1,1,1]],\n",
    "    [[1,1,1],[1,1,1],[1,1,1]]\n",
    "])\n",
    "#print(img.shape,\"\\n\")\n",
    "filaDeCeros =np.zeros((1,img.shape[1],img.shape[2]), dtype = img.dtype)\n",
    "#print(filaDeCeros.shape)\n",
    "ampliada = np.insert(img, np.s_[::1], filaDeCeros, axis=0)\n",
    "#print(ampliada.shape,\"\\n\")\n",
    "ampliada = np.vstack((ampliada, filaDeCeros))\n",
    "#print(ampliada.shape,\"\\n\")\n",
    "columnaDeCeros = np.zeros((ampliada.shape[0],1,img.shape[2]), dtype = ampliada.dtype)\n",
    "ampliada = np.insert(ampliada,np.s_[0::1],columnaDeCeros, axis = 1)\n",
    "#print(ampliada.shape,\"\\n\")\n",
    "ampliada = np.hstack((ampliada,columnaDeCeros))\n",
    "print(ampliada.shape,\"\\n\")\n",
    "print(ampliada,\"\\n\")"
   ]
  },
  {
   "cell_type": "markdown",
   "id": "4f387a0d",
   "metadata": {},
   "source": [
    "<h1>Convolución con máscara</h1>"
   ]
  },
  {
   "cell_type": "code",
   "execution_count": 67,
   "id": "7a1cc5b5",
   "metadata": {},
   "outputs": [
    {
     "name": "stdout",
     "output_type": "stream",
     "text": [
      "(3, 3)\n",
      "(5, 5, 3)\n"
     ]
    },
    {
     "ename": "ValueError",
     "evalue": "operands could not be broadcast together with shapes (6,6) (3,3) ",
     "output_type": "error",
     "traceback": [
      "\u001b[1;31m---------------------------------------------------------------------------\u001b[0m",
      "\u001b[1;31mValueError\u001b[0m                                Traceback (most recent call last)",
      "Cell \u001b[1;32mIn[67], line 5\u001b[0m\n\u001b[0;32m      3\u001b[0m \u001b[38;5;28mprint\u001b[39m(mascara_conv\u001b[38;5;241m.\u001b[39mshape)\n\u001b[0;32m      4\u001b[0m \u001b[38;5;28mprint\u001b[39m(region_conv\u001b[38;5;241m.\u001b[39mshape)\n\u001b[1;32m----> 5\u001b[0m new_img \u001b[38;5;241m=\u001b[39m \u001b[43mnp\u001b[49m\u001b[38;5;241;43m.\u001b[39;49m\u001b[43mmultiply\u001b[49m\u001b[43m(\u001b[49m\u001b[43mampliada\u001b[49m\u001b[43m[\u001b[49m\u001b[38;5;241;43m1\u001b[39;49m\u001b[43m:\u001b[49m\u001b[43m,\u001b[49m\u001b[38;5;241;43m1\u001b[39;49m\u001b[43m:\u001b[49m\u001b[43m,\u001b[49m\u001b[38;5;241;43m1\u001b[39;49m\u001b[43m]\u001b[49m\u001b[43m,\u001b[49m\u001b[43mmascara_conv\u001b[49m\u001b[43m)\u001b[49m\n",
      "\u001b[1;31mValueError\u001b[0m: operands could not be broadcast together with shapes (6,6) (3,3) "
     ]
    }
   ],
   "source": [
    "mascara_conv = np.array([[0.25,0.5 ,0.25],[0.5,1 ,0.5],[0.25,0.5 ,0.25]])\n",
    "region_conv = ampliada[1:-1,1:-1,:]\n",
    "print(mascara_conv.shape)\n",
    "print(region_conv.shape)\n",
    "new_img = np.multiply(ampliada[1:,1:,1],mascara_conv)"
   ]
  },
  {
   "cell_type": "code",
   "execution_count": null,
   "id": "3cf92a67",
   "metadata": {},
   "outputs": [],
   "source": []
  }
 ],
 "metadata": {
  "kernelspec": {
   "display_name": "Python 3 (ipykernel)",
   "language": "python",
   "name": "python3"
  },
  "language_info": {
   "codemirror_mode": {
    "name": "ipython",
    "version": 3
   },
   "file_extension": ".py",
   "mimetype": "text/x-python",
   "name": "python",
   "nbconvert_exporter": "python",
   "pygments_lexer": "ipython3",
   "version": "3.9.7"
  }
 },
 "nbformat": 4,
 "nbformat_minor": 5
}
