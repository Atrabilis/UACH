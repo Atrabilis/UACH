{
 "cells": [
  {
   "cell_type": "markdown",
   "id": "d0d4a326",
   "metadata": {},
   "source": [
    "# **Velocidad Angular**\n",
    "\n",
    "Tasa de cambio de la posición angular ($\\theta$) con respecto al tiempo positiva en sentido contrario a las manecillas del reloj y negativa en sentido de las manecillas del reloj. \n",
    "\n",
    "La velocidad lineal unidimensional sedefine como:\n",
    "\n",
    "\\begin{equation}\n",
    "v = \\frac{dr}{dt}\n",
    "\\end{equation}\n",
    "\n",
    "y la velocidad angular:\n",
    "\n",
    "\\begin{equation}\n",
    "\\omega = \\frac{d \\theta}{dt}\n",
    "\\end{equation}\n",
    "\n",
    "* $\\omega_m$: velocidad angular en radianes por segundo\n",
    "* $f_m$: velocidad angular en revoluciones por segundo\n",
    "* $n_m$: velocidad angular en revoluciones por minuto\n",
    "\n",
    "la relación entre estas cantidades está dada por:\n",
    "\n",
    "\\begin{align}\n",
    "\n",
    "\\end{align}"
   ]
  },
  {
   "cell_type": "code",
   "execution_count": null,
   "id": "863ac36c",
   "metadata": {},
   "outputs": [],
   "source": []
  }
 ],
 "metadata": {
  "kernelspec": {
   "display_name": "Python 3 (ipykernel)",
   "language": "python",
   "name": "python3"
  },
  "language_info": {
   "codemirror_mode": {
    "name": "ipython",
    "version": 3
   },
   "file_extension": ".py",
   "mimetype": "text/x-python",
   "name": "python",
   "nbconvert_exporter": "python",
   "pygments_lexer": "ipython3",
   "version": "3.9.7"
  }
 },
 "nbformat": 4,
 "nbformat_minor": 5
}
