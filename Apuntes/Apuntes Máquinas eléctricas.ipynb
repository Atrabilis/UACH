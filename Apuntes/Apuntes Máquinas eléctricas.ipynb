{
 "cells": [
  {
   "cell_type": "markdown",
   "id": "d0d4a326",
   "metadata": {},
   "source": [
    "<h1 style = \"text-align:center\">Velocidad Angular</h1>\n",
    "\n",
    "Tasa de cambio de la posición angular ($\\theta$) con respecto al tiempo positiva en sentido contrario a las manecillas del reloj y negativa en sentido de las manecillas del reloj. \n",
    "\n",
    "La velocidad lineal unidimensional se define como:\n",
    "\n",
    "\\begin{equation}\n",
    "v = \\frac{dr}{dt}\n",
    "\\end{equation}\n",
    "\n",
    "y la velocidad angular:\n",
    "\n",
    "\\begin{equation}\n",
    "\\omega = \\frac{d \\theta}{dt}\n",
    "\\end{equation}\n",
    "\n",
    "* $\\omega_m$: velocidad angular en radianes por segundo\n",
    "* $f_m$: velocidad angular en revoluciones por segundo\n",
    "* $n_m$: velocidad angular en revoluciones por minuto\n",
    "\n",
    "la relación entre estas cantidades está dada por:\n",
    "\n",
    "\\begin{align}\n",
    "n_m = 60f_n\\\\\n",
    "f_m = \\frac{\\omega_m}{2\\pi}\n",
    "\\end{align}"
   ]
  },
  {
   "cell_type": "markdown",
   "id": "87852594",
   "metadata": {},
   "source": [
    "<h1 style = \"text-align:center\">Aceleración Angular</h1>\n",
    "\n",
    "La aceleración lineal unidimensional se define como:\n",
    "\n",
    "\\begin{equation}\n",
    "a = \\frac{dv}{dt}\n",
    "\\end{equation}\n",
    "\n",
    "La aceleración lineal angular se define como:\n",
    "\n",
    "\\begin{equation}\n",
    "\\alpha = \\frac{d\\omega}{dt}\n",
    "\\end{equation}\n",
    "\n",
    "\n"
   ]
  },
  {
   "cell_type": "markdown",
   "id": "49cba61b",
   "metadata": {},
   "source": [
    "<h1 style = \"text-align:center\"> Par </h1>\n",
    "\n",
    "¿Qué es par? Se le puede llamar, aunque no con mucha exactitud, la “fuerza de torsión” aplicada\n",
    "a un objeto.\n",
    "\n",
    "<figure>\n",
    "<img src=\"./par.png\" alt=\"Deduccion de la ecuacion de par en un objeto\" width=\"40%\">\n",
    "  <figcaption style=\"text-align: center;\">Deducción de la ecuación de Par</figcaption>\n",
    "</figure>\n",
    "\n",
    "\\begin{equation}\n",
    "\\tau = r F \\sin(\\theta)\n",
    "\\end{equation}"
   ]
  },
  {
   "cell_type": "markdown",
   "id": "857b047d",
   "metadata": {},
   "source": [
    "<h1 style = \"text-align:center\">Ley de rotación de newton</h1>\n",
    "\n",
    "\\begin{equation}\n",
    "F = m a\n",
    "\\end{equation}\n",
    "\n",
    "\\begin{equation}\n",
    "\\tau = J \\alpha\n",
    "\\end{equation}\n",
    "\n",
    "$J$: momento de inercia, cumple la miisma función que la masa en la ecuación unidimensional.\n"
   ]
  },
  {
   "cell_type": "markdown",
   "id": "446e0536",
   "metadata": {},
   "source": [
    "<h1 style = \"text-align:center\">Trabajo</h1>\n",
    "\n",
    "\\begin{equation}\n",
    "W = \\int F dr\n",
    "\\end{equation}\n",
    "\n",
    "\\begin{equation}\n",
    "W = \\int \\tau d \\theta\n",
    "\\end{equation}"
   ]
  },
  {
   "cell_type": "markdown",
   "id": "13d1d0aa",
   "metadata": {},
   "source": [
    "<h1 style = \"text-align:center\">Potencia</h1>\n",
    "\n",
    "\\begin{equation}\n",
    "P = \\frac{dW}{dt}\n",
    "\\end{equation}\n",
    "\n",
    "\\begin{equation}\n",
    "P = \\frac{dFr}{dt} = F \\frac{dr}{dt} = Fv\n",
    "\\end{equation}\n",
    "\n",
    "\\begin{equation}\n",
    "P = \\frac{d \\tau \\theta }{dt} = \\tau \\frac{d\\theta}{dt} = \\tau \\omega\n",
    "\\end{equation}"
   ]
  },
  {
   "cell_type": "markdown",
   "id": "f31ae605",
   "metadata": {},
   "source": [
    "<h1 style = \"text-align: center\">El campo Magnético</h1> \n",
    "\n",
    "<p>Como se indicó, los campos magnéticos son el mecanismo fundamental para convertir la energía de\n",
    "una forma a otra en motores, generadores y transformadores. Existen cuatro principios básicos que\n",
    "describen cómo se utilizan los campos magnéticos en estos aparatos:</p>\n",
    "\n",
    "<ol>\n",
    "    <li>Un conductor que porta corriente produce un campo magnético a su alrededor.</li>\n",
    "    <li>Un campo magnético variable en el tiempo induce un voltaje en una bobina de alambre si pasa\n",
    "    a través de ella (este principio es la base del funcionamiento del transformador).</li>\n",
    "    <li>Un conductor que porta corriente en presencia de un campo magnético experimenta una fuerza\n",
    "    inducida sobre él (ésta es la base del funcionamiento del motor).</li>\n",
    "    <li>Un conductor eléctrico que se mueva en presencia de un campo magnético tendrá un voltaje\n",
    "    inducido en él (ésta es la base del funcionamiento del generador).</li>\n",
    "</ol>"
   ]
  },
  {
   "cell_type": "code",
   "execution_count": null,
   "id": "2d684e39",
   "metadata": {},
   "outputs": [],
   "source": []
  }
 ],
 "metadata": {
  "kernelspec": {
   "display_name": "Python 3 (ipykernel)",
   "language": "python",
   "name": "python3"
  },
  "language_info": {
   "codemirror_mode": {
    "name": "ipython",
    "version": 3
   },
   "file_extension": ".py",
   "mimetype": "text/x-python",
   "name": "python",
   "nbconvert_exporter": "python",
   "pygments_lexer": "ipython3",
   "version": "3.9.7"
  }
 },
 "nbformat": 4,
 "nbformat_minor": 5
}
